{
 "cells": [
  {
   "cell_type": "code",
   "execution_count": 1,
   "id": "faeb7a73",
   "metadata": {},
   "outputs": [],
   "source": [
    "import pandas as pd\n",
    "import matplotlib.pyplot as plt\n",
    "import seaborn as sns\n",
    "import numpy as np"
   ]
  },
  {
   "cell_type": "markdown",
   "id": "68875ba4",
   "metadata": {},
   "source": [
    "## DATA VALIDATION STAGE"
   ]
  },
  {
   "cell_type": "code",
   "execution_count": 2,
   "id": "d1da3d50",
   "metadata": {},
   "outputs": [],
   "source": [
    "#importing the data\n",
    "data = pd.read_csv('C:\\\\Users\\\\user\\\\Downloads\\\\restuarant_claims.csv')"
   ]
  },
  {
   "cell_type": "code",
   "execution_count": 3,
   "id": "ae018078",
   "metadata": {},
   "outputs": [
    {
     "data": {
      "text/html": [
       "<div>\n",
       "<style scoped>\n",
       "    .dataframe tbody tr th:only-of-type {\n",
       "        vertical-align: middle;\n",
       "    }\n",
       "\n",
       "    .dataframe tbody tr th {\n",
       "        vertical-align: top;\n",
       "    }\n",
       "\n",
       "    .dataframe thead th {\n",
       "        text-align: right;\n",
       "    }\n",
       "</style>\n",
       "<table border=\"1\" class=\"dataframe\">\n",
       "  <thead>\n",
       "    <tr style=\"text-align: right;\">\n",
       "      <th></th>\n",
       "      <th>LAWSUIT NUMBER</th>\n",
       "      <th>AREA</th>\n",
       "      <th>CLAIM START DATE</th>\n",
       "      <th>CLOSE DATE</th>\n",
       "      <th>CLAIM AMOUNT</th>\n",
       "      <th>AMOUNT PAID</th>\n",
       "      <th>CITY SUBSIDIARIES</th>\n",
       "      <th>CONTRACT TYPE</th>\n",
       "      <th>SUPPLIER NAME</th>\n",
       "      <th>TYPE OF POSITION</th>\n",
       "    </tr>\n",
       "  </thead>\n",
       "  <tbody>\n",
       "    <tr>\n",
       "      <th>0</th>\n",
       "      <td>0000000-00.2010.0.00.0094</td>\n",
       "      <td>TAX</td>\n",
       "      <td>7/5/2010</td>\n",
       "      <td>17/3/2016</td>\n",
       "      <td>R$50,000.00</td>\n",
       "      <td>R$15,000.00</td>\n",
       "      <td>RECIFE</td>\n",
       "      <td>-</td>\n",
       "      <td>NaN</td>\n",
       "      <td>NaN</td>\n",
       "    </tr>\n",
       "    <tr>\n",
       "      <th>1</th>\n",
       "      <td>0000000-00.2011.0.00.0086</td>\n",
       "      <td>TAX</td>\n",
       "      <td>3/3/2011</td>\n",
       "      <td>NaN</td>\n",
       "      <td>R$180,000.00</td>\n",
       "      <td>NaN</td>\n",
       "      <td>SÃO LUÍS</td>\n",
       "      <td>-</td>\n",
       "      <td>NaN</td>\n",
       "      <td>NaN</td>\n",
       "    </tr>\n",
       "    <tr>\n",
       "      <th>2</th>\n",
       "      <td>0000000-00.2012.0.00.0092</td>\n",
       "      <td>TAX</td>\n",
       "      <td>17/10/2012</td>\n",
       "      <td>NaN</td>\n",
       "      <td>R$70,000.00</td>\n",
       "      <td>NaN</td>\n",
       "      <td>SÃO LUÍS</td>\n",
       "      <td>-</td>\n",
       "      <td>NaN</td>\n",
       "      <td>NaN</td>\n",
       "    </tr>\n",
       "    <tr>\n",
       "      <th>3</th>\n",
       "      <td>0000000-00.2013.0.00.0096</td>\n",
       "      <td>TAX</td>\n",
       "      <td>17/12/2013</td>\n",
       "      <td>2/2/2017</td>\n",
       "      <td>R$95,104.00</td>\n",
       "      <td>R$72,279.00</td>\n",
       "      <td>FORTALEZA</td>\n",
       "      <td>-</td>\n",
       "      <td>NaN</td>\n",
       "      <td>NaN</td>\n",
       "    </tr>\n",
       "    <tr>\n",
       "      <th>4</th>\n",
       "      <td>0000000-00.2014.0.00.0097</td>\n",
       "      <td>TAX</td>\n",
       "      <td>15/1/2014</td>\n",
       "      <td>5/12/2014</td>\n",
       "      <td>R$29,000.00</td>\n",
       "      <td>R$5,800.00</td>\n",
       "      <td>FORTALEZA</td>\n",
       "      <td>-</td>\n",
       "      <td>NaN</td>\n",
       "      <td>NaN</td>\n",
       "    </tr>\n",
       "  </tbody>\n",
       "</table>\n",
       "</div>"
      ],
      "text/plain": [
       "              LAWSUIT NUMBER AREA CLAIM START DATE CLOSE DATE  CLAIM AMOUNT  \\\n",
       "0  0000000-00.2010.0.00.0094  TAX         7/5/2010  17/3/2016   R$50,000.00   \n",
       "1  0000000-00.2011.0.00.0086  TAX         3/3/2011        NaN  R$180,000.00   \n",
       "2  0000000-00.2012.0.00.0092  TAX       17/10/2012        NaN   R$70,000.00   \n",
       "3  0000000-00.2013.0.00.0096  TAX       17/12/2013   2/2/2017   R$95,104.00   \n",
       "4  0000000-00.2014.0.00.0097  TAX        15/1/2014  5/12/2014   R$29,000.00   \n",
       "\n",
       "   AMOUNT PAID CITY SUBSIDIARIES CONTRACT TYPE SUPPLIER NAME TYPE OF POSITION  \n",
       "0  R$15,000.00            RECIFE             -           NaN              NaN  \n",
       "1          NaN          SÃO LUÍS             -           NaN              NaN  \n",
       "2          NaN          SÃO LUÍS             -           NaN              NaN  \n",
       "3  R$72,279.00         FORTALEZA             -           NaN              NaN  \n",
       "4   R$5,800.00         FORTALEZA             -           NaN              NaN  "
      ]
     },
     "execution_count": 3,
     "metadata": {},
     "output_type": "execute_result"
    }
   ],
   "source": [
    "data.head()\n",
    "#to print the first 5 rows of the dataset"
   ]
  },
  {
   "cell_type": "code",
   "execution_count": 4,
   "id": "8bbec717",
   "metadata": {},
   "outputs": [
    {
     "data": {
      "text/html": [
       "<div>\n",
       "<style scoped>\n",
       "    .dataframe tbody tr th:only-of-type {\n",
       "        vertical-align: middle;\n",
       "    }\n",
       "\n",
       "    .dataframe tbody tr th {\n",
       "        vertical-align: top;\n",
       "    }\n",
       "\n",
       "    .dataframe thead th {\n",
       "        text-align: right;\n",
       "    }\n",
       "</style>\n",
       "<table border=\"1\" class=\"dataframe\">\n",
       "  <thead>\n",
       "    <tr style=\"text-align: right;\">\n",
       "      <th></th>\n",
       "      <th>LAWSUIT NUMBER</th>\n",
       "      <th>AREA</th>\n",
       "      <th>CLAIM START DATE</th>\n",
       "      <th>CLOSE DATE</th>\n",
       "      <th>CLAIM AMOUNT</th>\n",
       "      <th>AMOUNT PAID</th>\n",
       "      <th>CITY SUBSIDIARIES</th>\n",
       "      <th>CONTRACT TYPE</th>\n",
       "      <th>SUPPLIER NAME</th>\n",
       "      <th>TYPE OF POSITION</th>\n",
       "    </tr>\n",
       "  </thead>\n",
       "  <tbody>\n",
       "    <tr>\n",
       "      <th>93</th>\n",
       "      <td>0000000-00.2020.0.00.0023</td>\n",
       "      <td>LABOR</td>\n",
       "      <td>6/6/2020</td>\n",
       "      <td>NaN</td>\n",
       "      <td>R$80,396.00</td>\n",
       "      <td>NaN</td>\n",
       "      <td>FORTALEZA</td>\n",
       "      <td>OWN</td>\n",
       "      <td>-</td>\n",
       "      <td>CHEF</td>\n",
       "    </tr>\n",
       "    <tr>\n",
       "      <th>94</th>\n",
       "      <td>0000000-00.2020.0.00.0057</td>\n",
       "      <td>LABOR</td>\n",
       "      <td>10/6/2020</td>\n",
       "      <td>NaN</td>\n",
       "      <td>R$50,000.00</td>\n",
       "      <td>NaN</td>\n",
       "      <td>FORTALEZA</td>\n",
       "      <td>THIRD</td>\n",
       "      <td>BLUE'S CLEANING</td>\n",
       "      <td>CLEANING ASSISTANT</td>\n",
       "    </tr>\n",
       "    <tr>\n",
       "      <th>95</th>\n",
       "      <td>0000000-00.2020.0.00.0010</td>\n",
       "      <td>LABOR</td>\n",
       "      <td>13/6/2020</td>\n",
       "      <td>NaN</td>\n",
       "      <td>R$60,000.00</td>\n",
       "      <td>NaN</td>\n",
       "      <td>NATAL</td>\n",
       "      <td>OWN</td>\n",
       "      <td>-</td>\n",
       "      <td>CASHIER</td>\n",
       "    </tr>\n",
       "    <tr>\n",
       "      <th>96</th>\n",
       "      <td>0000000-00.2020.0.00.0059</td>\n",
       "      <td>LABOR</td>\n",
       "      <td>14/6/2020</td>\n",
       "      <td>NaN</td>\n",
       "      <td>R$474,542.00</td>\n",
       "      <td>NaN</td>\n",
       "      <td>NATAL</td>\n",
       "      <td>THIRD</td>\n",
       "      <td>BLUE'S CLEANING</td>\n",
       "      <td>CLEANING ASSISTANT</td>\n",
       "    </tr>\n",
       "    <tr>\n",
       "      <th>97</th>\n",
       "      <td>0000000-00.2020.0.00.0073</td>\n",
       "      <td>LABOR</td>\n",
       "      <td>19/6/2020</td>\n",
       "      <td>NaN</td>\n",
       "      <td>R$40,000.00</td>\n",
       "      <td>NaN</td>\n",
       "      <td>NATAL</td>\n",
       "      <td>THIRD</td>\n",
       "      <td>OREGON</td>\n",
       "      <td>TELEMARKETING ATTENDANT</td>\n",
       "    </tr>\n",
       "  </tbody>\n",
       "</table>\n",
       "</div>"
      ],
      "text/plain": [
       "               LAWSUIT NUMBER   AREA CLAIM START DATE CLOSE DATE  \\\n",
       "93  0000000-00.2020.0.00.0023  LABOR         6/6/2020        NaN   \n",
       "94  0000000-00.2020.0.00.0057  LABOR        10/6/2020        NaN   \n",
       "95  0000000-00.2020.0.00.0010  LABOR        13/6/2020        NaN   \n",
       "96  0000000-00.2020.0.00.0059  LABOR        14/6/2020        NaN   \n",
       "97  0000000-00.2020.0.00.0073  LABOR        19/6/2020        NaN   \n",
       "\n",
       "    CLAIM AMOUNT AMOUNT PAID CITY SUBSIDIARIES CONTRACT TYPE    SUPPLIER NAME  \\\n",
       "93   R$80,396.00         NaN         FORTALEZA           OWN                -   \n",
       "94   R$50,000.00         NaN         FORTALEZA         THIRD  BLUE'S CLEANING   \n",
       "95   R$60,000.00         NaN             NATAL           OWN                -   \n",
       "96  R$474,542.00         NaN             NATAL         THIRD  BLUE'S CLEANING   \n",
       "97   R$40,000.00         NaN             NATAL         THIRD           OREGON   \n",
       "\n",
       "           TYPE OF POSITION  \n",
       "93                     CHEF  \n",
       "94       CLEANING ASSISTANT  \n",
       "95                  CASHIER  \n",
       "96       CLEANING ASSISTANT  \n",
       "97  TELEMARKETING ATTENDANT  "
      ]
     },
     "execution_count": 4,
     "metadata": {},
     "output_type": "execute_result"
    }
   ],
   "source": [
    "data.tail()\n",
    "#to print the last 5 rowws of the dataset"
   ]
  },
  {
   "cell_type": "code",
   "execution_count": 5,
   "id": "c34dec7a",
   "metadata": {},
   "outputs": [
    {
     "data": {
      "text/plain": [
       "(98, 10)"
      ]
     },
     "execution_count": 5,
     "metadata": {},
     "output_type": "execute_result"
    }
   ],
   "source": [
    "data.shape\n",
    "#to check the shape of the data , in this case the dataset contains 98 rows with 10 features"
   ]
  },
  {
   "cell_type": "code",
   "execution_count": 6,
   "id": "eeae967c",
   "metadata": {},
   "outputs": [
    {
     "name": "stdout",
     "output_type": "stream",
     "text": [
      "<class 'pandas.core.frame.DataFrame'>\n",
      "RangeIndex: 98 entries, 0 to 97\n",
      "Data columns (total 10 columns):\n",
      " #   Column             Non-Null Count  Dtype \n",
      "---  ------             --------------  ----- \n",
      " 0   LAWSUIT NUMBER     98 non-null     object\n",
      " 1   AREA               98 non-null     object\n",
      " 2   CLAIM START DATE   98 non-null     object\n",
      " 3   CLOSE DATE         14 non-null     object\n",
      " 4   CLAIM AMOUNT       98 non-null     object\n",
      " 5   AMOUNT PAID        14 non-null     object\n",
      " 6   CITY SUBSIDIARIES  98 non-null     object\n",
      " 7   CONTRACT TYPE      98 non-null     object\n",
      " 8   SUPPLIER NAME      82 non-null     object\n",
      " 9   TYPE OF POSITION   82 non-null     object\n",
      "dtypes: object(10)\n",
      "memory usage: 7.8+ KB\n"
     ]
    }
   ],
   "source": [
    "data.info()"
   ]
  },
  {
   "cell_type": "code",
   "execution_count": 7,
   "id": "f830c08e",
   "metadata": {},
   "outputs": [
    {
     "data": {
      "text/plain": [
       "LAWSUIT NUMBER        0\n",
       "AREA                  0\n",
       "CLAIM START DATE      0\n",
       "CLOSE DATE           84\n",
       "CLAIM AMOUNT          0\n",
       "AMOUNT PAID          84\n",
       "CITY SUBSIDIARIES     0\n",
       "CONTRACT TYPE         0\n",
       "SUPPLIER NAME        16\n",
       "TYPE OF POSITION     16\n",
       "dtype: int64"
      ]
     },
     "execution_count": 7,
     "metadata": {},
     "output_type": "execute_result"
    }
   ],
   "source": [
    "#Checking for the total missing values in each of the column.\n",
    "#this may have a very significant during the analysis, so it is important to check for missing values\n",
    "data.isna().sum()"
   ]
  },
  {
   "cell_type": "markdown",
   "id": "43a584f1",
   "metadata": {},
   "source": [
    "The LAWSUIT NUMBER uniquely identifies each claim , I decided to drop this column as this will not have any significant effect on further analysis in this project."
   ]
  },
  {
   "cell_type": "code",
   "execution_count": 8,
   "id": "45282699",
   "metadata": {},
   "outputs": [],
   "source": [
    "data = data.drop('LAWSUIT NUMBER', axis=1)"
   ]
  },
  {
   "cell_type": "code",
   "execution_count": 9,
   "id": "eb9bee41",
   "metadata": {},
   "outputs": [
    {
     "data": {
      "text/html": [
       "<div>\n",
       "<style scoped>\n",
       "    .dataframe tbody tr th:only-of-type {\n",
       "        vertical-align: middle;\n",
       "    }\n",
       "\n",
       "    .dataframe tbody tr th {\n",
       "        vertical-align: top;\n",
       "    }\n",
       "\n",
       "    .dataframe thead th {\n",
       "        text-align: right;\n",
       "    }\n",
       "</style>\n",
       "<table border=\"1\" class=\"dataframe\">\n",
       "  <thead>\n",
       "    <tr style=\"text-align: right;\">\n",
       "      <th></th>\n",
       "      <th>AREA</th>\n",
       "      <th>CLAIM START DATE</th>\n",
       "      <th>CLOSE DATE</th>\n",
       "      <th>CLAIM AMOUNT</th>\n",
       "      <th>AMOUNT PAID</th>\n",
       "      <th>CITY SUBSIDIARIES</th>\n",
       "      <th>CONTRACT TYPE</th>\n",
       "      <th>SUPPLIER NAME</th>\n",
       "      <th>TYPE OF POSITION</th>\n",
       "    </tr>\n",
       "  </thead>\n",
       "  <tbody>\n",
       "    <tr>\n",
       "      <th>0</th>\n",
       "      <td>TAX</td>\n",
       "      <td>7/5/2010</td>\n",
       "      <td>17/3/2016</td>\n",
       "      <td>R$50,000.00</td>\n",
       "      <td>R$15,000.00</td>\n",
       "      <td>RECIFE</td>\n",
       "      <td>-</td>\n",
       "      <td>NaN</td>\n",
       "      <td>NaN</td>\n",
       "    </tr>\n",
       "    <tr>\n",
       "      <th>1</th>\n",
       "      <td>TAX</td>\n",
       "      <td>3/3/2011</td>\n",
       "      <td>NaN</td>\n",
       "      <td>R$180,000.00</td>\n",
       "      <td>NaN</td>\n",
       "      <td>SÃO LUÍS</td>\n",
       "      <td>-</td>\n",
       "      <td>NaN</td>\n",
       "      <td>NaN</td>\n",
       "    </tr>\n",
       "    <tr>\n",
       "      <th>2</th>\n",
       "      <td>TAX</td>\n",
       "      <td>17/10/2012</td>\n",
       "      <td>NaN</td>\n",
       "      <td>R$70,000.00</td>\n",
       "      <td>NaN</td>\n",
       "      <td>SÃO LUÍS</td>\n",
       "      <td>-</td>\n",
       "      <td>NaN</td>\n",
       "      <td>NaN</td>\n",
       "    </tr>\n",
       "    <tr>\n",
       "      <th>3</th>\n",
       "      <td>TAX</td>\n",
       "      <td>17/12/2013</td>\n",
       "      <td>2/2/2017</td>\n",
       "      <td>R$95,104.00</td>\n",
       "      <td>R$72,279.00</td>\n",
       "      <td>FORTALEZA</td>\n",
       "      <td>-</td>\n",
       "      <td>NaN</td>\n",
       "      <td>NaN</td>\n",
       "    </tr>\n",
       "    <tr>\n",
       "      <th>4</th>\n",
       "      <td>TAX</td>\n",
       "      <td>15/1/2014</td>\n",
       "      <td>5/12/2014</td>\n",
       "      <td>R$29,000.00</td>\n",
       "      <td>R$5,800.00</td>\n",
       "      <td>FORTALEZA</td>\n",
       "      <td>-</td>\n",
       "      <td>NaN</td>\n",
       "      <td>NaN</td>\n",
       "    </tr>\n",
       "    <tr>\n",
       "      <th>...</th>\n",
       "      <td>...</td>\n",
       "      <td>...</td>\n",
       "      <td>...</td>\n",
       "      <td>...</td>\n",
       "      <td>...</td>\n",
       "      <td>...</td>\n",
       "      <td>...</td>\n",
       "      <td>...</td>\n",
       "      <td>...</td>\n",
       "    </tr>\n",
       "    <tr>\n",
       "      <th>93</th>\n",
       "      <td>LABOR</td>\n",
       "      <td>6/6/2020</td>\n",
       "      <td>NaN</td>\n",
       "      <td>R$80,396.00</td>\n",
       "      <td>NaN</td>\n",
       "      <td>FORTALEZA</td>\n",
       "      <td>OWN</td>\n",
       "      <td>-</td>\n",
       "      <td>CHEF</td>\n",
       "    </tr>\n",
       "    <tr>\n",
       "      <th>94</th>\n",
       "      <td>LABOR</td>\n",
       "      <td>10/6/2020</td>\n",
       "      <td>NaN</td>\n",
       "      <td>R$50,000.00</td>\n",
       "      <td>NaN</td>\n",
       "      <td>FORTALEZA</td>\n",
       "      <td>THIRD</td>\n",
       "      <td>BLUE'S CLEANING</td>\n",
       "      <td>CLEANING ASSISTANT</td>\n",
       "    </tr>\n",
       "    <tr>\n",
       "      <th>95</th>\n",
       "      <td>LABOR</td>\n",
       "      <td>13/6/2020</td>\n",
       "      <td>NaN</td>\n",
       "      <td>R$60,000.00</td>\n",
       "      <td>NaN</td>\n",
       "      <td>NATAL</td>\n",
       "      <td>OWN</td>\n",
       "      <td>-</td>\n",
       "      <td>CASHIER</td>\n",
       "    </tr>\n",
       "    <tr>\n",
       "      <th>96</th>\n",
       "      <td>LABOR</td>\n",
       "      <td>14/6/2020</td>\n",
       "      <td>NaN</td>\n",
       "      <td>R$474,542.00</td>\n",
       "      <td>NaN</td>\n",
       "      <td>NATAL</td>\n",
       "      <td>THIRD</td>\n",
       "      <td>BLUE'S CLEANING</td>\n",
       "      <td>CLEANING ASSISTANT</td>\n",
       "    </tr>\n",
       "    <tr>\n",
       "      <th>97</th>\n",
       "      <td>LABOR</td>\n",
       "      <td>19/6/2020</td>\n",
       "      <td>NaN</td>\n",
       "      <td>R$40,000.00</td>\n",
       "      <td>NaN</td>\n",
       "      <td>NATAL</td>\n",
       "      <td>THIRD</td>\n",
       "      <td>OREGON</td>\n",
       "      <td>TELEMARKETING ATTENDANT</td>\n",
       "    </tr>\n",
       "  </tbody>\n",
       "</table>\n",
       "<p>98 rows × 9 columns</p>\n",
       "</div>"
      ],
      "text/plain": [
       "     AREA CLAIM START DATE CLOSE DATE  CLAIM AMOUNT  AMOUNT PAID  \\\n",
       "0     TAX         7/5/2010  17/3/2016   R$50,000.00  R$15,000.00   \n",
       "1     TAX         3/3/2011        NaN  R$180,000.00          NaN   \n",
       "2     TAX       17/10/2012        NaN   R$70,000.00          NaN   \n",
       "3     TAX       17/12/2013   2/2/2017   R$95,104.00  R$72,279.00   \n",
       "4     TAX        15/1/2014  5/12/2014   R$29,000.00   R$5,800.00   \n",
       "..    ...              ...        ...           ...          ...   \n",
       "93  LABOR         6/6/2020        NaN   R$80,396.00          NaN   \n",
       "94  LABOR        10/6/2020        NaN   R$50,000.00          NaN   \n",
       "95  LABOR        13/6/2020        NaN   R$60,000.00          NaN   \n",
       "96  LABOR        14/6/2020        NaN  R$474,542.00          NaN   \n",
       "97  LABOR        19/6/2020        NaN   R$40,000.00          NaN   \n",
       "\n",
       "   CITY SUBSIDIARIES CONTRACT TYPE    SUPPLIER NAME         TYPE OF POSITION  \n",
       "0             RECIFE             -              NaN                      NaN  \n",
       "1           SÃO LUÍS             -              NaN                      NaN  \n",
       "2           SÃO LUÍS             -              NaN                      NaN  \n",
       "3          FORTALEZA             -              NaN                      NaN  \n",
       "4          FORTALEZA             -              NaN                      NaN  \n",
       "..               ...           ...              ...                      ...  \n",
       "93         FORTALEZA           OWN                -                     CHEF  \n",
       "94         FORTALEZA         THIRD  BLUE'S CLEANING       CLEANING ASSISTANT  \n",
       "95             NATAL           OWN                -                  CASHIER  \n",
       "96             NATAL         THIRD  BLUE'S CLEANING       CLEANING ASSISTANT  \n",
       "97             NATAL         THIRD           OREGON  TELEMARKETING ATTENDANT  \n",
       "\n",
       "[98 rows x 9 columns]"
      ]
     },
     "execution_count": 9,
     "metadata": {},
     "output_type": "execute_result"
    }
   ],
   "source": [
    "data"
   ]
  },
  {
   "cell_type": "code",
   "execution_count": 10,
   "id": "db61b2bd",
   "metadata": {},
   "outputs": [
    {
     "data": {
      "text/plain": [
       "array(['TAX', 'LABOR'], dtype=object)"
      ]
     },
     "execution_count": 10,
     "metadata": {},
     "output_type": "execute_result"
    }
   ],
   "source": [
    "data['AREA'].unique()\n",
    "#The area matches the criteria given in the data dictionary(tax or labor)"
   ]
  },
  {
   "cell_type": "code",
   "execution_count": 11,
   "id": "02f7b3b0",
   "metadata": {},
   "outputs": [
    {
     "data": {
      "text/plain": [
       "pandas.core.series.Series"
      ]
     },
     "execution_count": 11,
     "metadata": {},
     "output_type": "execute_result"
    }
   ],
   "source": [
    "type(data['CLAIM START DATE'])\n",
    "#the claim start date and close date column are pandas series object type.\n",
    "#I converted this column to datetime object."
   ]
  },
  {
   "cell_type": "code",
   "execution_count": 12,
   "id": "5edaab68",
   "metadata": {},
   "outputs": [],
   "source": [
    "data['CLAIM START DATE']=pd.to_datetime(data['CLAIM START DATE'])"
   ]
  },
  {
   "cell_type": "code",
   "execution_count": 13,
   "id": "77d14aaa",
   "metadata": {},
   "outputs": [],
   "source": [
    "data['CLOSE DATE']=pd.to_datetime(data['CLOSE DATE'])"
   ]
  },
  {
   "cell_type": "code",
   "execution_count": 14,
   "id": "03dfec39",
   "metadata": {},
   "outputs": [
    {
     "data": {
      "text/html": [
       "<div>\n",
       "<style scoped>\n",
       "    .dataframe tbody tr th:only-of-type {\n",
       "        vertical-align: middle;\n",
       "    }\n",
       "\n",
       "    .dataframe tbody tr th {\n",
       "        vertical-align: top;\n",
       "    }\n",
       "\n",
       "    .dataframe thead th {\n",
       "        text-align: right;\n",
       "    }\n",
       "</style>\n",
       "<table border=\"1\" class=\"dataframe\">\n",
       "  <thead>\n",
       "    <tr style=\"text-align: right;\">\n",
       "      <th></th>\n",
       "      <th>AREA</th>\n",
       "      <th>CLAIM START DATE</th>\n",
       "      <th>CLOSE DATE</th>\n",
       "      <th>CLAIM AMOUNT</th>\n",
       "      <th>AMOUNT PAID</th>\n",
       "      <th>CITY SUBSIDIARIES</th>\n",
       "      <th>CONTRACT TYPE</th>\n",
       "      <th>SUPPLIER NAME</th>\n",
       "      <th>TYPE OF POSITION</th>\n",
       "    </tr>\n",
       "  </thead>\n",
       "  <tbody>\n",
       "    <tr>\n",
       "      <th>0</th>\n",
       "      <td>TAX</td>\n",
       "      <td>2010-07-05</td>\n",
       "      <td>2016-03-17</td>\n",
       "      <td>R$50,000.00</td>\n",
       "      <td>R$15,000.00</td>\n",
       "      <td>RECIFE</td>\n",
       "      <td>-</td>\n",
       "      <td>NaN</td>\n",
       "      <td>NaN</td>\n",
       "    </tr>\n",
       "    <tr>\n",
       "      <th>1</th>\n",
       "      <td>TAX</td>\n",
       "      <td>2011-03-03</td>\n",
       "      <td>NaT</td>\n",
       "      <td>R$180,000.00</td>\n",
       "      <td>NaN</td>\n",
       "      <td>SÃO LUÍS</td>\n",
       "      <td>-</td>\n",
       "      <td>NaN</td>\n",
       "      <td>NaN</td>\n",
       "    </tr>\n",
       "    <tr>\n",
       "      <th>2</th>\n",
       "      <td>TAX</td>\n",
       "      <td>2012-10-17</td>\n",
       "      <td>NaT</td>\n",
       "      <td>R$70,000.00</td>\n",
       "      <td>NaN</td>\n",
       "      <td>SÃO LUÍS</td>\n",
       "      <td>-</td>\n",
       "      <td>NaN</td>\n",
       "      <td>NaN</td>\n",
       "    </tr>\n",
       "    <tr>\n",
       "      <th>3</th>\n",
       "      <td>TAX</td>\n",
       "      <td>2013-12-17</td>\n",
       "      <td>2017-02-02</td>\n",
       "      <td>R$95,104.00</td>\n",
       "      <td>R$72,279.00</td>\n",
       "      <td>FORTALEZA</td>\n",
       "      <td>-</td>\n",
       "      <td>NaN</td>\n",
       "      <td>NaN</td>\n",
       "    </tr>\n",
       "    <tr>\n",
       "      <th>4</th>\n",
       "      <td>TAX</td>\n",
       "      <td>2014-01-15</td>\n",
       "      <td>2014-05-12</td>\n",
       "      <td>R$29,000.00</td>\n",
       "      <td>R$5,800.00</td>\n",
       "      <td>FORTALEZA</td>\n",
       "      <td>-</td>\n",
       "      <td>NaN</td>\n",
       "      <td>NaN</td>\n",
       "    </tr>\n",
       "    <tr>\n",
       "      <th>...</th>\n",
       "      <td>...</td>\n",
       "      <td>...</td>\n",
       "      <td>...</td>\n",
       "      <td>...</td>\n",
       "      <td>...</td>\n",
       "      <td>...</td>\n",
       "      <td>...</td>\n",
       "      <td>...</td>\n",
       "      <td>...</td>\n",
       "    </tr>\n",
       "    <tr>\n",
       "      <th>93</th>\n",
       "      <td>LABOR</td>\n",
       "      <td>2020-06-06</td>\n",
       "      <td>NaT</td>\n",
       "      <td>R$80,396.00</td>\n",
       "      <td>NaN</td>\n",
       "      <td>FORTALEZA</td>\n",
       "      <td>OWN</td>\n",
       "      <td>-</td>\n",
       "      <td>CHEF</td>\n",
       "    </tr>\n",
       "    <tr>\n",
       "      <th>94</th>\n",
       "      <td>LABOR</td>\n",
       "      <td>2020-10-06</td>\n",
       "      <td>NaT</td>\n",
       "      <td>R$50,000.00</td>\n",
       "      <td>NaN</td>\n",
       "      <td>FORTALEZA</td>\n",
       "      <td>THIRD</td>\n",
       "      <td>BLUE'S CLEANING</td>\n",
       "      <td>CLEANING ASSISTANT</td>\n",
       "    </tr>\n",
       "    <tr>\n",
       "      <th>95</th>\n",
       "      <td>LABOR</td>\n",
       "      <td>2020-06-13</td>\n",
       "      <td>NaT</td>\n",
       "      <td>R$60,000.00</td>\n",
       "      <td>NaN</td>\n",
       "      <td>NATAL</td>\n",
       "      <td>OWN</td>\n",
       "      <td>-</td>\n",
       "      <td>CASHIER</td>\n",
       "    </tr>\n",
       "    <tr>\n",
       "      <th>96</th>\n",
       "      <td>LABOR</td>\n",
       "      <td>2020-06-14</td>\n",
       "      <td>NaT</td>\n",
       "      <td>R$474,542.00</td>\n",
       "      <td>NaN</td>\n",
       "      <td>NATAL</td>\n",
       "      <td>THIRD</td>\n",
       "      <td>BLUE'S CLEANING</td>\n",
       "      <td>CLEANING ASSISTANT</td>\n",
       "    </tr>\n",
       "    <tr>\n",
       "      <th>97</th>\n",
       "      <td>LABOR</td>\n",
       "      <td>2020-06-19</td>\n",
       "      <td>NaT</td>\n",
       "      <td>R$40,000.00</td>\n",
       "      <td>NaN</td>\n",
       "      <td>NATAL</td>\n",
       "      <td>THIRD</td>\n",
       "      <td>OREGON</td>\n",
       "      <td>TELEMARKETING ATTENDANT</td>\n",
       "    </tr>\n",
       "  </tbody>\n",
       "</table>\n",
       "<p>98 rows × 9 columns</p>\n",
       "</div>"
      ],
      "text/plain": [
       "     AREA CLAIM START DATE CLOSE DATE  CLAIM AMOUNT  AMOUNT PAID  \\\n",
       "0     TAX       2010-07-05 2016-03-17   R$50,000.00  R$15,000.00   \n",
       "1     TAX       2011-03-03        NaT  R$180,000.00          NaN   \n",
       "2     TAX       2012-10-17        NaT   R$70,000.00          NaN   \n",
       "3     TAX       2013-12-17 2017-02-02   R$95,104.00  R$72,279.00   \n",
       "4     TAX       2014-01-15 2014-05-12   R$29,000.00   R$5,800.00   \n",
       "..    ...              ...        ...           ...          ...   \n",
       "93  LABOR       2020-06-06        NaT   R$80,396.00          NaN   \n",
       "94  LABOR       2020-10-06        NaT   R$50,000.00          NaN   \n",
       "95  LABOR       2020-06-13        NaT   R$60,000.00          NaN   \n",
       "96  LABOR       2020-06-14        NaT  R$474,542.00          NaN   \n",
       "97  LABOR       2020-06-19        NaT   R$40,000.00          NaN   \n",
       "\n",
       "   CITY SUBSIDIARIES CONTRACT TYPE    SUPPLIER NAME         TYPE OF POSITION  \n",
       "0             RECIFE             -              NaN                      NaN  \n",
       "1           SÃO LUÍS             -              NaN                      NaN  \n",
       "2           SÃO LUÍS             -              NaN                      NaN  \n",
       "3          FORTALEZA             -              NaN                      NaN  \n",
       "4          FORTALEZA             -              NaN                      NaN  \n",
       "..               ...           ...              ...                      ...  \n",
       "93         FORTALEZA           OWN                -                     CHEF  \n",
       "94         FORTALEZA         THIRD  BLUE'S CLEANING       CLEANING ASSISTANT  \n",
       "95             NATAL           OWN                -                  CASHIER  \n",
       "96             NATAL         THIRD  BLUE'S CLEANING       CLEANING ASSISTANT  \n",
       "97             NATAL         THIRD           OREGON  TELEMARKETING ATTENDANT  \n",
       "\n",
       "[98 rows x 9 columns]"
      ]
     },
     "execution_count": 14,
     "metadata": {},
     "output_type": "execute_result"
    }
   ],
   "source": [
    "data"
   ]
  },
  {
   "cell_type": "code",
   "execution_count": 15,
   "id": "31e58782",
   "metadata": {},
   "outputs": [
    {
     "data": {
      "text/plain": [
       "pandas.core.series.Series"
      ]
     },
     "execution_count": 15,
     "metadata": {},
     "output_type": "execute_result"
    }
   ],
   "source": [
    "type(data['CLAIM AMOUNT'])"
   ]
  },
  {
   "cell_type": "code",
   "execution_count": 16,
   "id": "d73ab4dc",
   "metadata": {},
   "outputs": [],
   "source": [
    "#removing the 'R' and '$' from the claim amount column and converting to an INT type\n",
    "data['CLAIM AMOUNT'] = data['CLAIM AMOUNT'].str[2:]\n",
    "data['AMOUNT PAID'] = data['AMOUNT PAID'].str[2:]"
   ]
  },
  {
   "cell_type": "code",
   "execution_count": 17,
   "id": "7a294e3b",
   "metadata": {},
   "outputs": [
    {
     "data": {
      "text/html": [
       "<div>\n",
       "<style scoped>\n",
       "    .dataframe tbody tr th:only-of-type {\n",
       "        vertical-align: middle;\n",
       "    }\n",
       "\n",
       "    .dataframe tbody tr th {\n",
       "        vertical-align: top;\n",
       "    }\n",
       "\n",
       "    .dataframe thead th {\n",
       "        text-align: right;\n",
       "    }\n",
       "</style>\n",
       "<table border=\"1\" class=\"dataframe\">\n",
       "  <thead>\n",
       "    <tr style=\"text-align: right;\">\n",
       "      <th></th>\n",
       "      <th>AREA</th>\n",
       "      <th>CLAIM START DATE</th>\n",
       "      <th>CLOSE DATE</th>\n",
       "      <th>CLAIM AMOUNT</th>\n",
       "      <th>AMOUNT PAID</th>\n",
       "      <th>CITY SUBSIDIARIES</th>\n",
       "      <th>CONTRACT TYPE</th>\n",
       "      <th>SUPPLIER NAME</th>\n",
       "      <th>TYPE OF POSITION</th>\n",
       "    </tr>\n",
       "  </thead>\n",
       "  <tbody>\n",
       "    <tr>\n",
       "      <th>0</th>\n",
       "      <td>TAX</td>\n",
       "      <td>2010-07-05</td>\n",
       "      <td>2016-03-17</td>\n",
       "      <td>50,000.00</td>\n",
       "      <td>15,000.00</td>\n",
       "      <td>RECIFE</td>\n",
       "      <td>-</td>\n",
       "      <td>NaN</td>\n",
       "      <td>NaN</td>\n",
       "    </tr>\n",
       "    <tr>\n",
       "      <th>1</th>\n",
       "      <td>TAX</td>\n",
       "      <td>2011-03-03</td>\n",
       "      <td>NaT</td>\n",
       "      <td>180,000.00</td>\n",
       "      <td>NaN</td>\n",
       "      <td>SÃO LUÍS</td>\n",
       "      <td>-</td>\n",
       "      <td>NaN</td>\n",
       "      <td>NaN</td>\n",
       "    </tr>\n",
       "    <tr>\n",
       "      <th>2</th>\n",
       "      <td>TAX</td>\n",
       "      <td>2012-10-17</td>\n",
       "      <td>NaT</td>\n",
       "      <td>70,000.00</td>\n",
       "      <td>NaN</td>\n",
       "      <td>SÃO LUÍS</td>\n",
       "      <td>-</td>\n",
       "      <td>NaN</td>\n",
       "      <td>NaN</td>\n",
       "    </tr>\n",
       "    <tr>\n",
       "      <th>3</th>\n",
       "      <td>TAX</td>\n",
       "      <td>2013-12-17</td>\n",
       "      <td>2017-02-02</td>\n",
       "      <td>95,104.00</td>\n",
       "      <td>72,279.00</td>\n",
       "      <td>FORTALEZA</td>\n",
       "      <td>-</td>\n",
       "      <td>NaN</td>\n",
       "      <td>NaN</td>\n",
       "    </tr>\n",
       "    <tr>\n",
       "      <th>4</th>\n",
       "      <td>TAX</td>\n",
       "      <td>2014-01-15</td>\n",
       "      <td>2014-05-12</td>\n",
       "      <td>29,000.00</td>\n",
       "      <td>5,800.00</td>\n",
       "      <td>FORTALEZA</td>\n",
       "      <td>-</td>\n",
       "      <td>NaN</td>\n",
       "      <td>NaN</td>\n",
       "    </tr>\n",
       "    <tr>\n",
       "      <th>...</th>\n",
       "      <td>...</td>\n",
       "      <td>...</td>\n",
       "      <td>...</td>\n",
       "      <td>...</td>\n",
       "      <td>...</td>\n",
       "      <td>...</td>\n",
       "      <td>...</td>\n",
       "      <td>...</td>\n",
       "      <td>...</td>\n",
       "    </tr>\n",
       "    <tr>\n",
       "      <th>93</th>\n",
       "      <td>LABOR</td>\n",
       "      <td>2020-06-06</td>\n",
       "      <td>NaT</td>\n",
       "      <td>80,396.00</td>\n",
       "      <td>NaN</td>\n",
       "      <td>FORTALEZA</td>\n",
       "      <td>OWN</td>\n",
       "      <td>-</td>\n",
       "      <td>CHEF</td>\n",
       "    </tr>\n",
       "    <tr>\n",
       "      <th>94</th>\n",
       "      <td>LABOR</td>\n",
       "      <td>2020-10-06</td>\n",
       "      <td>NaT</td>\n",
       "      <td>50,000.00</td>\n",
       "      <td>NaN</td>\n",
       "      <td>FORTALEZA</td>\n",
       "      <td>THIRD</td>\n",
       "      <td>BLUE'S CLEANING</td>\n",
       "      <td>CLEANING ASSISTANT</td>\n",
       "    </tr>\n",
       "    <tr>\n",
       "      <th>95</th>\n",
       "      <td>LABOR</td>\n",
       "      <td>2020-06-13</td>\n",
       "      <td>NaT</td>\n",
       "      <td>60,000.00</td>\n",
       "      <td>NaN</td>\n",
       "      <td>NATAL</td>\n",
       "      <td>OWN</td>\n",
       "      <td>-</td>\n",
       "      <td>CASHIER</td>\n",
       "    </tr>\n",
       "    <tr>\n",
       "      <th>96</th>\n",
       "      <td>LABOR</td>\n",
       "      <td>2020-06-14</td>\n",
       "      <td>NaT</td>\n",
       "      <td>474,542.00</td>\n",
       "      <td>NaN</td>\n",
       "      <td>NATAL</td>\n",
       "      <td>THIRD</td>\n",
       "      <td>BLUE'S CLEANING</td>\n",
       "      <td>CLEANING ASSISTANT</td>\n",
       "    </tr>\n",
       "    <tr>\n",
       "      <th>97</th>\n",
       "      <td>LABOR</td>\n",
       "      <td>2020-06-19</td>\n",
       "      <td>NaT</td>\n",
       "      <td>40,000.00</td>\n",
       "      <td>NaN</td>\n",
       "      <td>NATAL</td>\n",
       "      <td>THIRD</td>\n",
       "      <td>OREGON</td>\n",
       "      <td>TELEMARKETING ATTENDANT</td>\n",
       "    </tr>\n",
       "  </tbody>\n",
       "</table>\n",
       "<p>98 rows × 9 columns</p>\n",
       "</div>"
      ],
      "text/plain": [
       "     AREA CLAIM START DATE CLOSE DATE CLAIM AMOUNT AMOUNT PAID  \\\n",
       "0     TAX       2010-07-05 2016-03-17    50,000.00   15,000.00   \n",
       "1     TAX       2011-03-03        NaT   180,000.00         NaN   \n",
       "2     TAX       2012-10-17        NaT    70,000.00         NaN   \n",
       "3     TAX       2013-12-17 2017-02-02    95,104.00   72,279.00   \n",
       "4     TAX       2014-01-15 2014-05-12    29,000.00    5,800.00   \n",
       "..    ...              ...        ...          ...         ...   \n",
       "93  LABOR       2020-06-06        NaT    80,396.00         NaN   \n",
       "94  LABOR       2020-10-06        NaT    50,000.00         NaN   \n",
       "95  LABOR       2020-06-13        NaT    60,000.00         NaN   \n",
       "96  LABOR       2020-06-14        NaT   474,542.00         NaN   \n",
       "97  LABOR       2020-06-19        NaT    40,000.00         NaN   \n",
       "\n",
       "   CITY SUBSIDIARIES CONTRACT TYPE    SUPPLIER NAME         TYPE OF POSITION  \n",
       "0             RECIFE             -              NaN                      NaN  \n",
       "1           SÃO LUÍS             -              NaN                      NaN  \n",
       "2           SÃO LUÍS             -              NaN                      NaN  \n",
       "3          FORTALEZA             -              NaN                      NaN  \n",
       "4          FORTALEZA             -              NaN                      NaN  \n",
       "..               ...           ...              ...                      ...  \n",
       "93         FORTALEZA           OWN                -                     CHEF  \n",
       "94         FORTALEZA         THIRD  BLUE'S CLEANING       CLEANING ASSISTANT  \n",
       "95             NATAL           OWN                -                  CASHIER  \n",
       "96             NATAL         THIRD  BLUE'S CLEANING       CLEANING ASSISTANT  \n",
       "97             NATAL         THIRD           OREGON  TELEMARKETING ATTENDANT  \n",
       "\n",
       "[98 rows x 9 columns]"
      ]
     },
     "execution_count": 17,
     "metadata": {},
     "output_type": "execute_result"
    }
   ],
   "source": [
    "data"
   ]
  },
  {
   "cell_type": "code",
   "execution_count": 18,
   "id": "d97d4504",
   "metadata": {},
   "outputs": [],
   "source": [
    "data['CLAIM AMOUNT'] = (pd.to_numeric(data['CLAIM AMOUNT'].str.replace(',',''), errors='coerce'))\n",
    "data['AMOUNT PAID'] = (pd.to_numeric(data['AMOUNT PAID'].str.replace(',',''), errors='coerce'))"
   ]
  },
  {
   "cell_type": "code",
   "execution_count": 19,
   "id": "869e5776",
   "metadata": {},
   "outputs": [
    {
     "data": {
      "text/html": [
       "<div>\n",
       "<style scoped>\n",
       "    .dataframe tbody tr th:only-of-type {\n",
       "        vertical-align: middle;\n",
       "    }\n",
       "\n",
       "    .dataframe tbody tr th {\n",
       "        vertical-align: top;\n",
       "    }\n",
       "\n",
       "    .dataframe thead th {\n",
       "        text-align: right;\n",
       "    }\n",
       "</style>\n",
       "<table border=\"1\" class=\"dataframe\">\n",
       "  <thead>\n",
       "    <tr style=\"text-align: right;\">\n",
       "      <th></th>\n",
       "      <th>AREA</th>\n",
       "      <th>CLAIM START DATE</th>\n",
       "      <th>CLOSE DATE</th>\n",
       "      <th>CLAIM AMOUNT</th>\n",
       "      <th>AMOUNT PAID</th>\n",
       "      <th>CITY SUBSIDIARIES</th>\n",
       "      <th>CONTRACT TYPE</th>\n",
       "      <th>SUPPLIER NAME</th>\n",
       "      <th>TYPE OF POSITION</th>\n",
       "    </tr>\n",
       "  </thead>\n",
       "  <tbody>\n",
       "    <tr>\n",
       "      <th>0</th>\n",
       "      <td>TAX</td>\n",
       "      <td>2010-07-05</td>\n",
       "      <td>2016-03-17</td>\n",
       "      <td>50000.0</td>\n",
       "      <td>15000.0</td>\n",
       "      <td>RECIFE</td>\n",
       "      <td>-</td>\n",
       "      <td>NaN</td>\n",
       "      <td>NaN</td>\n",
       "    </tr>\n",
       "    <tr>\n",
       "      <th>1</th>\n",
       "      <td>TAX</td>\n",
       "      <td>2011-03-03</td>\n",
       "      <td>NaT</td>\n",
       "      <td>180000.0</td>\n",
       "      <td>NaN</td>\n",
       "      <td>SÃO LUÍS</td>\n",
       "      <td>-</td>\n",
       "      <td>NaN</td>\n",
       "      <td>NaN</td>\n",
       "    </tr>\n",
       "    <tr>\n",
       "      <th>2</th>\n",
       "      <td>TAX</td>\n",
       "      <td>2012-10-17</td>\n",
       "      <td>NaT</td>\n",
       "      <td>70000.0</td>\n",
       "      <td>NaN</td>\n",
       "      <td>SÃO LUÍS</td>\n",
       "      <td>-</td>\n",
       "      <td>NaN</td>\n",
       "      <td>NaN</td>\n",
       "    </tr>\n",
       "    <tr>\n",
       "      <th>3</th>\n",
       "      <td>TAX</td>\n",
       "      <td>2013-12-17</td>\n",
       "      <td>2017-02-02</td>\n",
       "      <td>95104.0</td>\n",
       "      <td>72279.0</td>\n",
       "      <td>FORTALEZA</td>\n",
       "      <td>-</td>\n",
       "      <td>NaN</td>\n",
       "      <td>NaN</td>\n",
       "    </tr>\n",
       "    <tr>\n",
       "      <th>4</th>\n",
       "      <td>TAX</td>\n",
       "      <td>2014-01-15</td>\n",
       "      <td>2014-05-12</td>\n",
       "      <td>29000.0</td>\n",
       "      <td>5800.0</td>\n",
       "      <td>FORTALEZA</td>\n",
       "      <td>-</td>\n",
       "      <td>NaN</td>\n",
       "      <td>NaN</td>\n",
       "    </tr>\n",
       "    <tr>\n",
       "      <th>...</th>\n",
       "      <td>...</td>\n",
       "      <td>...</td>\n",
       "      <td>...</td>\n",
       "      <td>...</td>\n",
       "      <td>...</td>\n",
       "      <td>...</td>\n",
       "      <td>...</td>\n",
       "      <td>...</td>\n",
       "      <td>...</td>\n",
       "    </tr>\n",
       "    <tr>\n",
       "      <th>93</th>\n",
       "      <td>LABOR</td>\n",
       "      <td>2020-06-06</td>\n",
       "      <td>NaT</td>\n",
       "      <td>80396.0</td>\n",
       "      <td>NaN</td>\n",
       "      <td>FORTALEZA</td>\n",
       "      <td>OWN</td>\n",
       "      <td>-</td>\n",
       "      <td>CHEF</td>\n",
       "    </tr>\n",
       "    <tr>\n",
       "      <th>94</th>\n",
       "      <td>LABOR</td>\n",
       "      <td>2020-10-06</td>\n",
       "      <td>NaT</td>\n",
       "      <td>50000.0</td>\n",
       "      <td>NaN</td>\n",
       "      <td>FORTALEZA</td>\n",
       "      <td>THIRD</td>\n",
       "      <td>BLUE'S CLEANING</td>\n",
       "      <td>CLEANING ASSISTANT</td>\n",
       "    </tr>\n",
       "    <tr>\n",
       "      <th>95</th>\n",
       "      <td>LABOR</td>\n",
       "      <td>2020-06-13</td>\n",
       "      <td>NaT</td>\n",
       "      <td>60000.0</td>\n",
       "      <td>NaN</td>\n",
       "      <td>NATAL</td>\n",
       "      <td>OWN</td>\n",
       "      <td>-</td>\n",
       "      <td>CASHIER</td>\n",
       "    </tr>\n",
       "    <tr>\n",
       "      <th>96</th>\n",
       "      <td>LABOR</td>\n",
       "      <td>2020-06-14</td>\n",
       "      <td>NaT</td>\n",
       "      <td>474542.0</td>\n",
       "      <td>NaN</td>\n",
       "      <td>NATAL</td>\n",
       "      <td>THIRD</td>\n",
       "      <td>BLUE'S CLEANING</td>\n",
       "      <td>CLEANING ASSISTANT</td>\n",
       "    </tr>\n",
       "    <tr>\n",
       "      <th>97</th>\n",
       "      <td>LABOR</td>\n",
       "      <td>2020-06-19</td>\n",
       "      <td>NaT</td>\n",
       "      <td>40000.0</td>\n",
       "      <td>NaN</td>\n",
       "      <td>NATAL</td>\n",
       "      <td>THIRD</td>\n",
       "      <td>OREGON</td>\n",
       "      <td>TELEMARKETING ATTENDANT</td>\n",
       "    </tr>\n",
       "  </tbody>\n",
       "</table>\n",
       "<p>98 rows × 9 columns</p>\n",
       "</div>"
      ],
      "text/plain": [
       "     AREA CLAIM START DATE CLOSE DATE  CLAIM AMOUNT  AMOUNT PAID  \\\n",
       "0     TAX       2010-07-05 2016-03-17       50000.0      15000.0   \n",
       "1     TAX       2011-03-03        NaT      180000.0          NaN   \n",
       "2     TAX       2012-10-17        NaT       70000.0          NaN   \n",
       "3     TAX       2013-12-17 2017-02-02       95104.0      72279.0   \n",
       "4     TAX       2014-01-15 2014-05-12       29000.0       5800.0   \n",
       "..    ...              ...        ...           ...          ...   \n",
       "93  LABOR       2020-06-06        NaT       80396.0          NaN   \n",
       "94  LABOR       2020-10-06        NaT       50000.0          NaN   \n",
       "95  LABOR       2020-06-13        NaT       60000.0          NaN   \n",
       "96  LABOR       2020-06-14        NaT      474542.0          NaN   \n",
       "97  LABOR       2020-06-19        NaT       40000.0          NaN   \n",
       "\n",
       "   CITY SUBSIDIARIES CONTRACT TYPE    SUPPLIER NAME         TYPE OF POSITION  \n",
       "0             RECIFE             -              NaN                      NaN  \n",
       "1           SÃO LUÍS             -              NaN                      NaN  \n",
       "2           SÃO LUÍS             -              NaN                      NaN  \n",
       "3          FORTALEZA             -              NaN                      NaN  \n",
       "4          FORTALEZA             -              NaN                      NaN  \n",
       "..               ...           ...              ...                      ...  \n",
       "93         FORTALEZA           OWN                -                     CHEF  \n",
       "94         FORTALEZA         THIRD  BLUE'S CLEANING       CLEANING ASSISTANT  \n",
       "95             NATAL           OWN                -                  CASHIER  \n",
       "96             NATAL         THIRD  BLUE'S CLEANING       CLEANING ASSISTANT  \n",
       "97             NATAL         THIRD           OREGON  TELEMARKETING ATTENDANT  \n",
       "\n",
       "[98 rows x 9 columns]"
      ]
     },
     "execution_count": 19,
     "metadata": {},
     "output_type": "execute_result"
    }
   ],
   "source": [
    "data"
   ]
  },
  {
   "cell_type": "markdown",
   "id": "19da0c5d",
   "metadata": {},
   "source": [
    "The Claim amount and amount paid now matches the criteria in the data dictionary"
   ]
  },
  {
   "cell_type": "code",
   "execution_count": 20,
   "id": "9521863c",
   "metadata": {},
   "outputs": [
    {
     "data": {
      "text/plain": [
       "array(['RECIFE', 'SÃO LUÍS', 'FORTALEZA', 'NATAL'], dtype=object)"
      ]
     },
     "execution_count": 20,
     "metadata": {},
     "output_type": "execute_result"
    }
   ],
   "source": [
    "data['CITY SUBSIDIARIES'].unique()\n",
    "#There are 4 different cities/locations"
   ]
  },
  {
   "cell_type": "code",
   "execution_count": 21,
   "id": "c4f3f6c7",
   "metadata": {},
   "outputs": [
    {
     "data": {
      "text/plain": [
       "array(['-', 'THIRD', 'OWN'], dtype=object)"
      ]
     },
     "execution_count": 21,
     "metadata": {},
     "output_type": "execute_result"
    }
   ],
   "source": [
    "data['CONTRACT TYPE'].unique()"
   ]
  },
  {
   "cell_type": "code",
   "execution_count": 22,
   "id": "4f5bb705",
   "metadata": {},
   "outputs": [
    {
     "data": {
      "text/plain": [
       "array([nan, 'OREGON', 'EAGLE SURVEILLANCE', \"BLUE'S CLEANING\", '-'],\n",
       "      dtype=object)"
      ]
     },
     "execution_count": 22,
     "metadata": {},
     "output_type": "execute_result"
    }
   ],
   "source": [
    "data['SUPPLIER NAME'].unique()"
   ]
  },
  {
   "cell_type": "code",
   "execution_count": 23,
   "id": "01187f4c",
   "metadata": {},
   "outputs": [
    {
     "data": {
      "text/plain": [
       "array([nan, 'TELEMARKETING ATTENDANT', 'VIGILANT II', 'CLEANING LEADER',\n",
       "       'KITCHEN ASSISTANT', 'CLEANING ASSISTANT', 'VIGILANT', 'CASHIER',\n",
       "       'CHEF', 'MANAGER', 'CLEANING MANAGER'], dtype=object)"
      ]
     },
     "execution_count": 23,
     "metadata": {},
     "output_type": "execute_result"
    }
   ],
   "source": [
    "data['TYPE OF POSITION'].unique()"
   ]
  },
  {
   "cell_type": "markdown",
   "id": "d60f8e38",
   "metadata": {},
   "source": [
    "## DATA DISCOVERY AND VISUALIZATION"
   ]
  },
  {
   "cell_type": "code",
   "execution_count": 24,
   "id": "8152e8ff",
   "metadata": {},
   "outputs": [
    {
     "data": {
      "text/plain": [
       "<seaborn.axisgrid.PairGrid at 0x2b5bf15dbb0>"
      ]
     },
     "execution_count": 24,
     "metadata": {},
     "output_type": "execute_result"
    },
    {
     "data": {
      "image/png": "[encoded data removed]",
      "text/plain": [
       "<Figure size 360x360 with 6 Axes>"
      ]
     },
     "metadata": {
      "needs_background": "light"
     },
     "output_type": "display_data"
    }
   ],
   "source": [
    "sns.pairplot(data)"
   ]
  },
  {
   "cell_type": "code",
   "execution_count": 25,
   "id": "108c05e1",
   "metadata": {},
   "outputs": [
    {
     "data": {
      "text/plain": [
       "<AxesSubplot:xlabel='CITY SUBSIDIARIES', ylabel='CLAIM AMOUNT'>"
      ]
     },
     "execution_count": 25,
     "metadata": {},
     "output_type": "execute_result"
    },
    {
     "data": {
      "image/png": "[encoded data removed]",
      "text/plain": [
       "<Figure size 432x288 with 1 Axes>"
      ]
     },
     "metadata": {
      "needs_background": "light"
     },
     "output_type": "display_data"
    }
   ],
   "source": [
    "sns.barplot(x='CITY SUBSIDIARIES' , y = 'CLAIM AMOUNT' , data = data)\n",
    "#NATAL is the city with the highest claim amount(about 200000)\n",
    "#FORTALEZA is the city with the lowest claim amount(about 7000)"
   ]
  },
  {
   "cell_type": "code",
   "execution_count": 26,
   "id": "5d6728ae",
   "metadata": {},
   "outputs": [
    {
     "data": {
      "text/plain": [
       "<AxesSubplot:xlabel='CITY SUBSIDIARIES', ylabel='AMOUNT PAID'>"
      ]
     },
     "execution_count": 26,
     "metadata": {},
     "output_type": "execute_result"
    },
    {
     "data": {
      "image/png": "[encoded data removed]",
      "text/plain": [
       "<Figure size 432x288 with 1 Axes>"
      ]
     },
     "metadata": {
      "needs_background": "light"
     },
     "output_type": "display_data"
    }
   ],
   "source": [
    "sns.barplot(x='CITY SUBSIDIARIES' , y = 'AMOUNT PAID' , data = data)\n",
    "#NATAL also has the highest amount paid\n",
    "#RECIFE has the lowest amount paid\n",
    "#The claim amount for NATAL differs from the amount paid by 200000-140000 = 60000\n",
    "#The claim amount for FORTALEZA difeers from the amount paid by about 90000-50000=40000\n",
    "#The claim amount for SAO LUIS  differs from the amount paid by about 10000-50000=50000\n",
    "#The claim amount for RECIFE differs from the amount paid by about 100000-30000=70000"
   ]
  },
  {
   "cell_type": "code",
   "execution_count": 27,
   "id": "597921f0",
   "metadata": {},
   "outputs": [
    {
     "data": {
      "text/plain": [
       "<AxesSubplot:xlabel='CLAIM AMOUNT', ylabel='AMOUNT PAID'>"
      ]
     },
     "execution_count": 27,
     "metadata": {},
     "output_type": "execute_result"
    },
    {
     "data": {
      "image/png": "[encoded data removed]",
      "text/plain": [
       "<Figure size 432x288 with 1 Axes>"
      ]
     },
     "metadata": {
      "needs_background": "light"
     },
     "output_type": "display_data"
    }
   ],
   "source": [
    "sns.scatterplot(x='CLAIM AMOUNT', y='AMOUNT PAID', data=data, hue='CITY SUBSIDIARIES')"
   ]
  },
  {
   "cell_type": "code",
   "execution_count": 28,
   "id": "81c4ccba",
   "metadata": {},
   "outputs": [
    {
     "data": {
      "text/plain": [
       "<AxesSubplot:xlabel='CLAIM START DATE', ylabel='CLAIM AMOUNT'>"
      ]
     },
     "execution_count": 28,
     "metadata": {},
     "output_type": "execute_result"
    },
    {
     "data": {
      "image/png": "[encoded data removed]",
      "text/plain": [
       "<Figure size 432x288 with 1 Axes>"
      ]
     },
     "metadata": {
      "needs_background": "light"
     },
     "output_type": "display_data"
    }
   ],
   "source": [
    "sns.lineplot(x='CLAIM START DATE' , y='CLAIM AMOUNT', data=data)\n",
    "#From the line plot ,the claim amount was highest in the year 2018"
   ]
  },
  {
   "cell_type": "code",
   "execution_count": 29,
   "id": "0eaeda94",
   "metadata": {},
   "outputs": [
    {
     "data": {
      "text/plain": [
       "<AxesSubplot:xlabel='CLAIM START DATE', ylabel='AMOUNT PAID'>"
      ]
     },
     "execution_count": 29,
     "metadata": {},
     "output_type": "execute_result"
    },
    {
     "data": {
      "image/png": "[encoded data removed]",
      "text/plain": [
       "<Figure size 432x288 with 1 Axes>"
      ]
     },
     "metadata": {
      "needs_background": "light"
     },
     "output_type": "display_data"
    }
   ],
   "source": [
    "sns.lineplot(x='CLAIM START DATE' , y='AMOUNT PAID', data=data)\n",
    "#The amount paid was highest in the year 2018\n",
    "#In the year 2018 the food chain store experience the highest growth"
   ]
  },
  {
   "cell_type": "code",
   "execution_count": 30,
   "id": "935c26bb",
   "metadata": {},
   "outputs": [
    {
     "data": {
      "text/plain": [
       "<AxesSubplot:xlabel='AREA', ylabel='CLAIM AMOUNT'>"
      ]
     },
     "execution_count": 30,
     "metadata": {},
     "output_type": "execute_result"
    },
    {
     "data": {
      "image/png": "[encoded data removed]",
      "text/plain": [
       "<Figure size 432x288 with 1 Axes>"
      ]
     },
     "metadata": {
      "needs_background": "light"
     },
     "output_type": "display_data"
    }
   ],
   "source": [
    "sns.barplot(x='AREA', y ='CLAIM AMOUNT', data=data)\n",
    "#there is a balance between the claim amount from tax and labor"
   ]
  },
  {
   "cell_type": "code",
   "execution_count": 31,
   "id": "a838596c",
   "metadata": {
    "scrolled": true
   },
   "outputs": [
    {
     "data": {
      "text/plain": [
       "<AxesSubplot:xlabel='CONTRACT TYPE', ylabel='CLAIM AMOUNT'>"
      ]
     },
     "execution_count": 31,
     "metadata": {},
     "output_type": "execute_result"
    },
    {
     "data": {
      "image/png": "[encoded data removed]",
      "text/plain": [
       "<Figure size 432x288 with 1 Axes>"
      ]
     },
     "metadata": {
      "needs_background": "light"
     },
     "output_type": "display_data"
    }
   ],
   "source": [
    "sns.barplot(x='CONTRACT TYPE', y ='CLAIM AMOUNT', data=data)\n",
    "#there is a balanace between the claim amount from customers that has no contract type and those that belongs to OWN contract type."
   ]
  },
  {
   "cell_type": "markdown",
   "id": "3b8fbde1",
   "metadata": {},
   "source": [
    "### REPORT FOR THE PROJECT"
   ]
  },
  {
   "cell_type": "markdown",
   "id": "532e2d84",
   "metadata": {},
   "source": [
    "1.From the dataset, after performing data cleaning and exporing the data , We can infer that the CLAIM AMOUNT in natal is the highest\n",
    "and Fortaleza has the lowest claim amount, the claim amount for  Recife and Sao Luis are relatively close in value(about 10,000), Natal \n",
    "city also has the highest amount paid while Recife has the lowest amount paid. The amount paid for Sao Luis and Fortaleza are \n",
    "relatively close in value.\n",
    "\n",
    "2i)The claim amount for NATAL differs from the amount paid by 200000-140000 = 60000\n",
    "ii)The claim amount for FORTALEZA difeers from the amount paid by about 90000-50000=40000\n",
    "iii)The claim amount for SAO LUIS  differs from the amount paid by about 10000-50000=50000\n",
    "iv)The claim amount for RECIFE differs from the amount paid by about 100000-30000=70000\n",
    "\n",
    "3. We can learn after comparing the Claim amount and the amount paid , that the claim amount is higher than the amount paid, after\n",
    "performing exploratory data analysis."
   ]
  }
 ],
 "metadata": {
  "kernelspec": {
   "display_name": "Python 3",
   "language": "python",
   "name": "python3"
  },
  "language_info": {
   "codemirror_mode": {
    "name": "ipython",
    "version": 3
   },
   "file_extension": ".py",
   "mimetype": "text/x-python",
   "name": "python",
   "nbconvert_exporter": "python",
   "pygments_lexer": "ipython3",
   "version": "3.8.8"
  }
 },
 "nbformat": 4,
 "nbformat_minor": 5
}
